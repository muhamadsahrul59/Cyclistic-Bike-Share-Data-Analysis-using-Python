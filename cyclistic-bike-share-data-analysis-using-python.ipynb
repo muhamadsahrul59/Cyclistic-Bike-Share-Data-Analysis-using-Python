{
 "cells": [
  {
   "cell_type": "code",
   "execution_count": 1,
   "id": "157487a2",
   "metadata": {
    "execution": {
     "iopub.execute_input": "2023-02-10T16:25:57.765453Z",
     "iopub.status.busy": "2023-02-10T16:25:57.764773Z",
     "iopub.status.idle": "2023-02-10T16:25:57.792103Z",
     "shell.execute_reply": "2023-02-10T16:25:57.790518Z"
    },
    "papermill": {
     "duration": 0.04432,
     "end_time": "2023-02-10T16:25:57.796080",
     "exception": false,
     "start_time": "2023-02-10T16:25:57.751760",
     "status": "completed"
    },
    "tags": []
   },
   "outputs": [
    {
     "name": "stdout",
     "output_type": "stream",
     "text": [
      "/kaggle/input/cyclistic-bike-share/202110-divvy-tripdata.csv\n",
      "/kaggle/input/cyclistic-bike-share/202105-divvy-tripdata.csv\n",
      "/kaggle/input/cyclistic-bike-share/202109-divvy-tripdata.csv\n",
      "/kaggle/input/cyclistic-bike-share/202111-divvy-tripdata.csv\n",
      "/kaggle/input/cyclistic-bike-share/202107-divvy-tripdata.csv\n",
      "/kaggle/input/cyclistic-bike-share/202202-divvy-tripdata.csv\n",
      "/kaggle/input/cyclistic-bike-share/202203-divvy-tripdata.csv\n",
      "/kaggle/input/cyclistic-bike-share/202108-divvy-tripdata.csv\n",
      "/kaggle/input/cyclistic-bike-share/202106-divvy-tripdata.csv\n",
      "/kaggle/input/cyclistic-bike-share/202201-divvy-tripdata.csv\n",
      "/kaggle/input/cyclistic-bike-share/202104-divvy-tripdata.csv\n",
      "/kaggle/input/cyclistic-bike-share/202112-divvy-tripdata.csv\n"
     ]
    }
   ],
   "source": [
    "# This Python 3 environment comes with many helpful analytics libraries installed\n",
    "# It is defined by the kaggle/python Docker image: https://github.com/kaggle/docker-python\n",
    "# For example, here's several helpful packages to load\n",
    "\n",
    "import numpy as np # linear algebra\n",
    "import pandas as pd # data processing, CSV file I/O (e.g. pd.read_csv)\n",
    "\n",
    "# Input data files are available in the read-only \"../input/\" directory\n",
    "# For example, running this (by clicking run or pressing Shift+Enter) will list all files under the input directory\n",
    "\n",
    "import os\n",
    "for dirname, _, filenames in os.walk('/kaggle/input'):\n",
    "    for filename in filenames:\n",
    "        print(os.path.join(dirname, filename))\n",
    "\n",
    "# You can write up to 20GB to the current directory (/kaggle/working/) that gets preserved as output when you create a version using \"Save & Run All\" \n",
    "# You can also write temporary files to /kaggle/temp/, but they won't be saved outside of the current session"
   ]
  },
  {
   "cell_type": "markdown",
   "id": "c53dac2b",
   "metadata": {
    "papermill": {
     "duration": 0.010876,
     "end_time": "2023-02-10T16:25:57.819413",
     "exception": false,
     "start_time": "2023-02-10T16:25:57.808537",
     "status": "completed"
    },
    "tags": []
   },
   "source": [
    "<h1 align=\"center\">Cyclistic Bike Share Data Analysis - Project</h1>\n",
    "\n",
    "<h3 align=\"right\">By - <a href=\"https://www.linkedin.com/in/sahrul59/\">Muhamad Sahrul</a></h3>"
   ]
  },
  {
   "cell_type": "markdown",
   "id": "c7b4766e",
   "metadata": {
    "papermill": {
     "duration": 0.009708,
     "end_time": "2023-02-10T16:25:57.839795",
     "exception": false,
     "start_time": "2023-02-10T16:25:57.830087",
     "status": "completed"
    },
    "tags": []
   },
   "source": [
    "# **Introduction**\n",
    "This case study is part of the [*Google Data Analytics Professional Certificate*](https://grow.google/certificates/data-analytics/#?modal_active=none). The certificate program covers the data analysis process, as defined by Google:\n",
    "\n",
    "1. Ask\n",
    "2. Prepare\n",
    "3. Process\n",
    "4. Analyze\n",
    "5. Share\n",
    "6. Act\n",
    "\n",
    "\n",
    "#### **Case Study Challenge**\n",
    "Cyclistic wants you to analyze their user data to find the main difference in the bike usage and behavior between their two types of users; \"casual\" who pays for a single ride or fullday pass to use the service and \"member\" who pays for a yearly subscription to use the service."
   ]
  },
  {
   "cell_type": "markdown",
   "id": "ac6550b4",
   "metadata": {
    "papermill": {
     "duration": 0.010214,
     "end_time": "2023-02-10T16:25:57.861199",
     "exception": false,
     "start_time": "2023-02-10T16:25:57.850985",
     "status": "completed"
    },
    "tags": []
   },
   "source": [
    "# **Scenario**\n",
    "\n",
    "You are a junior data analyst working in the marketing analyst team at Cyclistic, a bike-sharing company in Chicago. The marketing director believes that the company's future success depends on maximizing the number of annual memberships. Therefore, your team wants to understand how casual riders and annual members use Cyclistic's bikes differently. From these insights, your team will design a new marketing strategy to convert casual riders into annual members. But first, Cyclistic executives must approve your recommendations, so they must be supported with compelling data insights and professional data visualizations.\n",
    "\n"
   ]
  },
  {
   "cell_type": "markdown",
   "id": "b60551af",
   "metadata": {
    "papermill": {
     "duration": 0.009495,
     "end_time": "2023-02-10T16:25:57.881882",
     "exception": false,
     "start_time": "2023-02-10T16:25:57.872387",
     "status": "completed"
    },
    "tags": []
   },
   "source": [
    "# **Characters and teams**\n",
    "\n",
    "- Cyclistic: A bike-sharing program featuring more than 5,800 bikes and 600 docking stations. Cyclistic differentiates itself from other companies by also offering reclining bikes, hand tricycles, and cargo bikes, making bike-share more inclusive for people with disabilities and riders who cannot use standard two-wheelers. The majority of riders choose traditional bicycles; about 8% of riders use assisted options. Cyclists are more likely to cycle for leisure, but around 30% use it to commute to work every day.\n",
    "\n",
    "- Lily Moreno: Your marketing director and manager. Moreno is responsible for the development of campaigns and initiatives to promote the bike share program. This may include email, social media, and other channels.\n",
    "\n",
    "- Cyclistic marketing analytics team: A team of data analysts responsible for collecting, analyzing, and reporting on data that helps guide Cyclistic's marketing strategy. You joined the team six months ago and have been busy learning about Cyclistic's mission and business goals - and how you, as a junior data analyst, can help Cyclistic achieve them.\n",
    "\n",
    "- Cyclistic's executive team: The highly detail-oriented executive team will decide whether they approve the recommended marketing program.\n",
    "\n"
   ]
  },
  {
   "cell_type": "markdown",
   "id": "499a066d",
   "metadata": {
    "papermill": {
     "duration": 0.009451,
     "end_time": "2023-02-10T16:25:57.901108",
     "exception": false,
     "start_time": "2023-02-10T16:25:57.891657",
     "status": "completed"
    },
    "tags": []
   },
   "source": [
    "# **About the company**\n",
    "In 2016, Cyclistic launched a successful bike-sharing offering. Since then, the program has grown to a fleet of 5,824 bikes that are geo-tracked and locked into a network of 692 stations across Chicago. Bikes can be accessed from one station and returned to another at any point in the system.\n",
    "\n",
    "To date, Cyclistic's marketing strategy has relied on efforts to build general awareness and attract a broad segment of consumers. One approach that helped make this happen was pricing flexibility: one-way tickets, full-day passes, and annual memberships. Customers who purchase one-way or full-day passes are referred to as casual riders. Customers who purchase annual memberships are Cyclistic members.\n",
    "\n",
    "Cyclistic's financial analysts have concluded that annual members are much more profitable than casual riders. Although pricing flexibility helps Cyclistic attract more customers, Moreno believes that maximizing the number of annual members will be the key to future growth. Rather than creating a marketing campaign that targets new customers, Moreno believes that there is an opportunity to convert casual riders into members. He notes that casual riders are already aware of Cyclistic's programs and have chosen Cyclistic for their mobility needs.\n",
    "\n",
    "Moreno has set a clear goal: Design a marketing strategy aimed at converting casual riders into annual members. However, to do so, the team of marketing analysts needed to better understand the differences between annual members and casual riders, why riders would be willing to purchase a membership, and how digital media could impact their marketing tactics. Moreno and his team were interested in analyzing Cyclistic's bike trip data to identify trends.\n"
   ]
  },
  {
   "cell_type": "markdown",
   "id": "c2757a56",
   "metadata": {
    "papermill": {
     "duration": 0.010346,
     "end_time": "2023-02-10T16:25:57.921910",
     "exception": false,
     "start_time": "2023-02-10T16:25:57.911564",
     "status": "completed"
    },
    "tags": []
   },
   "source": [
    "# Business Objective\n",
    "\n",
    "Analyzing the past 12-month data in order to find the difference in bike usage and behavior between **casual users** (*who pays for a single-ride or a full-day service*) and **annual members** (*who pays for a yearly subscription to use the service*).\n",
    "> The Director of Marketing, Lily Moreno, believes that maximizing the number of annual members will be key to future growth.\n",
    ">\n",
    ">Furthermore, she believes that there is very good chance to convert casual users into members instead of creating a marketing campaign that targets all-new customers, as she notes that casual riders are already aware of the Cylistic program."
   ]
  },
  {
   "cell_type": "markdown",
   "id": "502c2c37",
   "metadata": {
    "papermill": {
     "duration": 0.009673,
     "end_time": "2023-02-10T16:25:57.943019",
     "exception": false,
     "start_time": "2023-02-10T16:25:57.933346",
     "status": "completed"
    },
    "tags": []
   },
   "source": [
    "# Ask\n",
    "\n",
    "- Which bike type is preferable for both users?\n",
    "- Which weekday is preferable for both users?\n",
    "- What is the average duration per weekday for both users?\n",
    "- Seasons that are more suitable for both users?"
   ]
  },
  {
   "cell_type": "markdown",
   "id": "6acd8408",
   "metadata": {
    "papermill": {
     "duration": 0.010344,
     "end_time": "2023-02-10T16:25:57.963731",
     "exception": false,
     "start_time": "2023-02-10T16:25:57.953387",
     "status": "completed"
    },
    "tags": []
   },
   "source": [
    "# Prepare\n",
    "\n",
    "The data used in this case study is a publicly available repository of monthly datasets from Motivate International Inc.\n",
    "\n",
    "The datasets are available for download <a href='https://divvy-tripdata.s3.amazonaws.com/index.html'>here</a>.\n",
    "\n",
    "The datasets from the previous 12 months have been downloaded from <a href='https://www.kaggle.com/datasets/evangower/cyclistic-bike-share'>this</a> Kaggle dataset."
   ]
  },
  {
   "cell_type": "markdown",
   "id": "9c80c10b",
   "metadata": {
    "papermill": {
     "duration": 0.010697,
     "end_time": "2023-02-10T16:25:57.984948",
     "exception": false,
     "start_time": "2023-02-10T16:25:57.974251",
     "status": "completed"
    },
    "tags": []
   },
   "source": []
  },
  {
   "cell_type": "markdown",
   "id": "82bfa78a",
   "metadata": {
    "papermill": {
     "duration": 0.009566,
     "end_time": "2023-02-10T16:25:58.004656",
     "exception": false,
     "start_time": "2023-02-10T16:25:57.995090",
     "status": "completed"
    },
    "tags": []
   },
   "source": [
    "## Importing Datasets\n"
   ]
  },
  {
   "cell_type": "code",
   "execution_count": 2,
   "id": "61b61ffa",
   "metadata": {
    "execution": {
     "iopub.execute_input": "2023-02-10T16:25:58.026564Z",
     "iopub.status.busy": "2023-02-10T16:25:58.026101Z",
     "iopub.status.idle": "2023-02-10T16:25:59.357827Z",
     "shell.execute_reply": "2023-02-10T16:25:59.356552Z"
    },
    "papermill": {
     "duration": 1.34646,
     "end_time": "2023-02-10T16:25:59.361031",
     "exception": false,
     "start_time": "2023-02-10T16:25:58.014571",
     "status": "completed"
    },
    "tags": []
   },
   "outputs": [],
   "source": [
    "import pandas as pd\n",
    "import seaborn as sns\n",
    "import matplotlib.pyplot as plt\n",
    "\n",
    "import warnings\n",
    "warnings.filterwarnings('ignore')"
   ]
  },
  {
   "cell_type": "code",
   "execution_count": 3,
   "id": "326901f2",
   "metadata": {
    "execution": {
     "iopub.execute_input": "2023-02-10T16:25:59.383512Z",
     "iopub.status.busy": "2023-02-10T16:25:59.383066Z",
     "iopub.status.idle": "2023-02-10T16:26:37.909825Z",
     "shell.execute_reply": "2023-02-10T16:26:37.908317Z"
    },
    "papermill": {
     "duration": 38.542476,
     "end_time": "2023-02-10T16:26:37.914088",
     "exception": false,
     "start_time": "2023-02-10T16:25:59.371612",
     "status": "completed"
    },
    "tags": []
   },
   "outputs": [],
   "source": [
    "# Reading datasets for all 12-month data (2021 Q2 -> 2022 Q1) \n",
    "apr2021 = pd.read_csv(\"../input/cyclistic-bike-share/202104-divvy-tripdata.csv\")\n",
    "may2021 = pd.read_csv(\"../input/cyclistic-bike-share/202105-divvy-tripdata.csv\")\n",
    "june2021 = pd.read_csv(\"../input/cyclistic-bike-share/202106-divvy-tripdata.csv\")\n",
    "july2021 = pd.read_csv(\"../input/cyclistic-bike-share/202107-divvy-tripdata.csv\")\n",
    "aug2021 = pd.read_csv(\"../input/cyclistic-bike-share/202108-divvy-tripdata.csv\")\n",
    "sep2021 = pd.read_csv(\"../input/cyclistic-bike-share/202109-divvy-tripdata.csv\")\n",
    "oct2021 = pd.read_csv(\"../input/cyclistic-bike-share/202110-divvy-tripdata.csv\")\n",
    "nov2021 = pd.read_csv(\"../input/cyclistic-bike-share/202111-divvy-tripdata.csv\")\n",
    "dec2021 = pd.read_csv(\"../input/cyclistic-bike-share/202112-divvy-tripdata.csv\")\n",
    "jan2022 = pd.read_csv(\"../input/cyclistic-bike-share/202201-divvy-tripdata.csv\")\n",
    "feb2022 = pd.read_csv(\"../input/cyclistic-bike-share/202202-divvy-tripdata.csv\")\n",
    "mar2022 = pd.read_csv(\"../input/cyclistic-bike-share/202203-divvy-tripdata.csv\")"
   ]
  },
  {
   "cell_type": "code",
   "execution_count": 4,
   "id": "51490a57",
   "metadata": {
    "execution": {
     "iopub.execute_input": "2023-02-10T16:26:37.937191Z",
     "iopub.status.busy": "2023-02-10T16:26:37.936798Z",
     "iopub.status.idle": "2023-02-10T16:26:40.148165Z",
     "shell.execute_reply": "2023-02-10T16:26:40.146847Z"
    },
    "papermill": {
     "duration": 2.226173,
     "end_time": "2023-02-10T16:26:40.151186",
     "exception": false,
     "start_time": "2023-02-10T16:26:37.925013",
     "status": "completed"
    },
    "tags": []
   },
   "outputs": [],
   "source": [
    "# List of all months' data\n",
    "all_df = [apr2021, may2021, june2021, july2021, aug2021, sep2021, oct2021, nov2021, dec2021, jan2022, feb2022, mar2022]\n",
    "\n",
    "# Aggregating them into a single dataset\n",
    "trip_data = pd.concat(all_df)\n",
    "df = trip_data"
   ]
  },
  {
   "cell_type": "code",
   "execution_count": 5,
   "id": "685cecb7",
   "metadata": {
    "execution": {
     "iopub.execute_input": "2023-02-10T16:26:40.173362Z",
     "iopub.status.busy": "2023-02-10T16:26:40.172905Z",
     "iopub.status.idle": "2023-02-10T16:26:40.209247Z",
     "shell.execute_reply": "2023-02-10T16:26:40.208065Z"
    },
    "papermill": {
     "duration": 0.050868,
     "end_time": "2023-02-10T16:26:40.212417",
     "exception": false,
     "start_time": "2023-02-10T16:26:40.161549",
     "status": "completed"
    },
    "tags": []
   },
   "outputs": [
    {
     "data": {
      "text/html": [
       "<div>\n",
       "<style scoped>\n",
       "    .dataframe tbody tr th:only-of-type {\n",
       "        vertical-align: middle;\n",
       "    }\n",
       "\n",
       "    .dataframe tbody tr th {\n",
       "        vertical-align: top;\n",
       "    }\n",
       "\n",
       "    .dataframe thead th {\n",
       "        text-align: right;\n",
       "    }\n",
       "</style>\n",
       "<table border=\"1\" class=\"dataframe\">\n",
       "  <thead>\n",
       "    <tr style=\"text-align: right;\">\n",
       "      <th></th>\n",
       "      <th>ride_id</th>\n",
       "      <th>rideable_type</th>\n",
       "      <th>started_at</th>\n",
       "      <th>ended_at</th>\n",
       "      <th>start_station_name</th>\n",
       "      <th>start_station_id</th>\n",
       "      <th>end_station_name</th>\n",
       "      <th>end_station_id</th>\n",
       "      <th>start_lat</th>\n",
       "      <th>start_lng</th>\n",
       "      <th>end_lat</th>\n",
       "      <th>end_lng</th>\n",
       "      <th>member_casual</th>\n",
       "    </tr>\n",
       "  </thead>\n",
       "  <tbody>\n",
       "    <tr>\n",
       "      <th>0</th>\n",
       "      <td>6C992BD37A98A63F</td>\n",
       "      <td>classic_bike</td>\n",
       "      <td>2021-04-12 18:25:36</td>\n",
       "      <td>2021-04-12 18:56:55</td>\n",
       "      <td>State St &amp; Pearson St</td>\n",
       "      <td>TA1307000061</td>\n",
       "      <td>Southport Ave &amp; Waveland Ave</td>\n",
       "      <td>13235</td>\n",
       "      <td>41.897448</td>\n",
       "      <td>-87.628722</td>\n",
       "      <td>41.948150</td>\n",
       "      <td>-87.663940</td>\n",
       "      <td>member</td>\n",
       "    </tr>\n",
       "    <tr>\n",
       "      <th>1</th>\n",
       "      <td>1E0145613A209000</td>\n",
       "      <td>docked_bike</td>\n",
       "      <td>2021-04-27 17:27:11</td>\n",
       "      <td>2021-04-27 18:31:29</td>\n",
       "      <td>Dorchester Ave &amp; 49th St</td>\n",
       "      <td>KA1503000069</td>\n",
       "      <td>Dorchester Ave &amp; 49th St</td>\n",
       "      <td>KA1503000069</td>\n",
       "      <td>41.805772</td>\n",
       "      <td>-87.592464</td>\n",
       "      <td>41.805772</td>\n",
       "      <td>-87.592464</td>\n",
       "      <td>casual</td>\n",
       "    </tr>\n",
       "    <tr>\n",
       "      <th>2</th>\n",
       "      <td>E498E15508A80BAD</td>\n",
       "      <td>docked_bike</td>\n",
       "      <td>2021-04-03 12:42:45</td>\n",
       "      <td>2021-04-07 11:40:24</td>\n",
       "      <td>Loomis Blvd &amp; 84th St</td>\n",
       "      <td>20121</td>\n",
       "      <td>Loomis Blvd &amp; 84th St</td>\n",
       "      <td>20121</td>\n",
       "      <td>41.741487</td>\n",
       "      <td>-87.658410</td>\n",
       "      <td>41.741487</td>\n",
       "      <td>-87.658410</td>\n",
       "      <td>casual</td>\n",
       "    </tr>\n",
       "    <tr>\n",
       "      <th>3</th>\n",
       "      <td>1887262AD101C604</td>\n",
       "      <td>classic_bike</td>\n",
       "      <td>2021-04-17 09:17:42</td>\n",
       "      <td>2021-04-17 09:42:48</td>\n",
       "      <td>Honore St &amp; Division St</td>\n",
       "      <td>TA1305000034</td>\n",
       "      <td>Southport Ave &amp; Waveland Ave</td>\n",
       "      <td>13235</td>\n",
       "      <td>41.903119</td>\n",
       "      <td>-87.673935</td>\n",
       "      <td>41.948150</td>\n",
       "      <td>-87.663940</td>\n",
       "      <td>member</td>\n",
       "    </tr>\n",
       "    <tr>\n",
       "      <th>4</th>\n",
       "      <td>C123548CAB2A32A5</td>\n",
       "      <td>docked_bike</td>\n",
       "      <td>2021-04-03 12:42:25</td>\n",
       "      <td>2021-04-03 14:13:42</td>\n",
       "      <td>Loomis Blvd &amp; 84th St</td>\n",
       "      <td>20121</td>\n",
       "      <td>Loomis Blvd &amp; 84th St</td>\n",
       "      <td>20121</td>\n",
       "      <td>41.741487</td>\n",
       "      <td>-87.658410</td>\n",
       "      <td>41.741487</td>\n",
       "      <td>-87.658410</td>\n",
       "      <td>casual</td>\n",
       "    </tr>\n",
       "    <tr>\n",
       "      <th>...</th>\n",
       "      <td>...</td>\n",
       "      <td>...</td>\n",
       "      <td>...</td>\n",
       "      <td>...</td>\n",
       "      <td>...</td>\n",
       "      <td>...</td>\n",
       "      <td>...</td>\n",
       "      <td>...</td>\n",
       "      <td>...</td>\n",
       "      <td>...</td>\n",
       "      <td>...</td>\n",
       "      <td>...</td>\n",
       "      <td>...</td>\n",
       "    </tr>\n",
       "    <tr>\n",
       "      <th>284037</th>\n",
       "      <td>E23BE3DB740BE3B4</td>\n",
       "      <td>docked_bike</td>\n",
       "      <td>2022-03-13 16:31:03</td>\n",
       "      <td>2022-03-13 16:39:32</td>\n",
       "      <td>Michigan Ave &amp; Oak St</td>\n",
       "      <td>13042</td>\n",
       "      <td>Streeter Dr &amp; Grand Ave</td>\n",
       "      <td>13022</td>\n",
       "      <td>41.900960</td>\n",
       "      <td>-87.623777</td>\n",
       "      <td>41.892278</td>\n",
       "      <td>-87.612043</td>\n",
       "      <td>casual</td>\n",
       "    </tr>\n",
       "    <tr>\n",
       "      <th>284038</th>\n",
       "      <td>15AF71F3220F2A75</td>\n",
       "      <td>docked_bike</td>\n",
       "      <td>2022-03-09 06:56:02</td>\n",
       "      <td>2022-03-09 07:42:14</td>\n",
       "      <td>Broadway &amp; Barry Ave</td>\n",
       "      <td>13137</td>\n",
       "      <td>Ravenswood Ave &amp; Berteau Ave</td>\n",
       "      <td>TA1309000018</td>\n",
       "      <td>41.937582</td>\n",
       "      <td>-87.644098</td>\n",
       "      <td>41.957921</td>\n",
       "      <td>-87.673567</td>\n",
       "      <td>casual</td>\n",
       "    </tr>\n",
       "    <tr>\n",
       "      <th>284039</th>\n",
       "      <td>9C4CE6CC19F8225B</td>\n",
       "      <td>electric_bike</td>\n",
       "      <td>2022-03-09 15:55:26</td>\n",
       "      <td>2022-03-09 16:08:54</td>\n",
       "      <td>NaN</td>\n",
       "      <td>NaN</td>\n",
       "      <td>Albany Ave &amp; Montrose Ave</td>\n",
       "      <td>15621</td>\n",
       "      <td>41.940000</td>\n",
       "      <td>-87.710000</td>\n",
       "      <td>41.961041</td>\n",
       "      <td>-87.705866</td>\n",
       "      <td>member</td>\n",
       "    </tr>\n",
       "    <tr>\n",
       "      <th>284040</th>\n",
       "      <td>F4E136DEF696F3AE</td>\n",
       "      <td>electric_bike</td>\n",
       "      <td>2022-03-21 16:12:44</td>\n",
       "      <td>2022-03-21 16:18:24</td>\n",
       "      <td>NaN</td>\n",
       "      <td>NaN</td>\n",
       "      <td>Larrabee St &amp; Division St</td>\n",
       "      <td>KA1504000079</td>\n",
       "      <td>41.910000</td>\n",
       "      <td>-87.650000</td>\n",
       "      <td>41.903486</td>\n",
       "      <td>-87.643353</td>\n",
       "      <td>member</td>\n",
       "    </tr>\n",
       "    <tr>\n",
       "      <th>284041</th>\n",
       "      <td>5AEC5F39AF711895</td>\n",
       "      <td>classic_bike</td>\n",
       "      <td>2022-03-03 18:13:40</td>\n",
       "      <td>2022-03-03 18:23:39</td>\n",
       "      <td>Clark St &amp; Randolph St</td>\n",
       "      <td>TA1305000030</td>\n",
       "      <td>Streeter Dr &amp; Grand Ave</td>\n",
       "      <td>13022</td>\n",
       "      <td>41.884576</td>\n",
       "      <td>-87.631890</td>\n",
       "      <td>41.892278</td>\n",
       "      <td>-87.612043</td>\n",
       "      <td>member</td>\n",
       "    </tr>\n",
       "  </tbody>\n",
       "</table>\n",
       "<p>5723532 rows × 13 columns</p>\n",
       "</div>"
      ],
      "text/plain": [
       "                 ride_id  rideable_type           started_at  \\\n",
       "0       6C992BD37A98A63F   classic_bike  2021-04-12 18:25:36   \n",
       "1       1E0145613A209000    docked_bike  2021-04-27 17:27:11   \n",
       "2       E498E15508A80BAD    docked_bike  2021-04-03 12:42:45   \n",
       "3       1887262AD101C604   classic_bike  2021-04-17 09:17:42   \n",
       "4       C123548CAB2A32A5    docked_bike  2021-04-03 12:42:25   \n",
       "...                  ...            ...                  ...   \n",
       "284037  E23BE3DB740BE3B4    docked_bike  2022-03-13 16:31:03   \n",
       "284038  15AF71F3220F2A75    docked_bike  2022-03-09 06:56:02   \n",
       "284039  9C4CE6CC19F8225B  electric_bike  2022-03-09 15:55:26   \n",
       "284040  F4E136DEF696F3AE  electric_bike  2022-03-21 16:12:44   \n",
       "284041  5AEC5F39AF711895   classic_bike  2022-03-03 18:13:40   \n",
       "\n",
       "                   ended_at        start_station_name start_station_id  \\\n",
       "0       2021-04-12 18:56:55     State St & Pearson St     TA1307000061   \n",
       "1       2021-04-27 18:31:29  Dorchester Ave & 49th St     KA1503000069   \n",
       "2       2021-04-07 11:40:24     Loomis Blvd & 84th St            20121   \n",
       "3       2021-04-17 09:42:48   Honore St & Division St     TA1305000034   \n",
       "4       2021-04-03 14:13:42     Loomis Blvd & 84th St            20121   \n",
       "...                     ...                       ...              ...   \n",
       "284037  2022-03-13 16:39:32     Michigan Ave & Oak St            13042   \n",
       "284038  2022-03-09 07:42:14      Broadway & Barry Ave            13137   \n",
       "284039  2022-03-09 16:08:54                       NaN              NaN   \n",
       "284040  2022-03-21 16:18:24                       NaN              NaN   \n",
       "284041  2022-03-03 18:23:39    Clark St & Randolph St     TA1305000030   \n",
       "\n",
       "                    end_station_name end_station_id  start_lat  start_lng  \\\n",
       "0       Southport Ave & Waveland Ave          13235  41.897448 -87.628722   \n",
       "1           Dorchester Ave & 49th St   KA1503000069  41.805772 -87.592464   \n",
       "2              Loomis Blvd & 84th St          20121  41.741487 -87.658410   \n",
       "3       Southport Ave & Waveland Ave          13235  41.903119 -87.673935   \n",
       "4              Loomis Blvd & 84th St          20121  41.741487 -87.658410   \n",
       "...                              ...            ...        ...        ...   \n",
       "284037       Streeter Dr & Grand Ave          13022  41.900960 -87.623777   \n",
       "284038  Ravenswood Ave & Berteau Ave   TA1309000018  41.937582 -87.644098   \n",
       "284039     Albany Ave & Montrose Ave          15621  41.940000 -87.710000   \n",
       "284040     Larrabee St & Division St   KA1504000079  41.910000 -87.650000   \n",
       "284041       Streeter Dr & Grand Ave          13022  41.884576 -87.631890   \n",
       "\n",
       "          end_lat    end_lng member_casual  \n",
       "0       41.948150 -87.663940        member  \n",
       "1       41.805772 -87.592464        casual  \n",
       "2       41.741487 -87.658410        casual  \n",
       "3       41.948150 -87.663940        member  \n",
       "4       41.741487 -87.658410        casual  \n",
       "...           ...        ...           ...  \n",
       "284037  41.892278 -87.612043        casual  \n",
       "284038  41.957921 -87.673567        casual  \n",
       "284039  41.961041 -87.705866        member  \n",
       "284040  41.903486 -87.643353        member  \n",
       "284041  41.892278 -87.612043        member  \n",
       "\n",
       "[5723532 rows x 13 columns]"
      ]
     },
     "execution_count": 5,
     "metadata": {},
     "output_type": "execute_result"
    }
   ],
   "source": [
    "trip_data"
   ]
  },
  {
   "cell_type": "code",
   "execution_count": 6,
   "id": "925a5dc1",
   "metadata": {
    "execution": {
     "iopub.execute_input": "2023-02-10T16:26:40.235425Z",
     "iopub.status.busy": "2023-02-10T16:26:40.234972Z",
     "iopub.status.idle": "2023-02-10T16:26:40.241405Z",
     "shell.execute_reply": "2023-02-10T16:26:40.240156Z"
    },
    "papermill": {
     "duration": 0.020545,
     "end_time": "2023-02-10T16:26:40.243623",
     "exception": false,
     "start_time": "2023-02-10T16:26:40.223078",
     "status": "completed"
    },
    "tags": []
   },
   "outputs": [
    {
     "data": {
      "text/plain": [
       "(5723532, 13)"
      ]
     },
     "execution_count": 6,
     "metadata": {},
     "output_type": "execute_result"
    }
   ],
   "source": [
    "trip_data.shape"
   ]
  },
  {
   "cell_type": "code",
   "execution_count": 7,
   "id": "9b82e618",
   "metadata": {
    "execution": {
     "iopub.execute_input": "2023-02-10T16:26:40.266708Z",
     "iopub.status.busy": "2023-02-10T16:26:40.266135Z",
     "iopub.status.idle": "2023-02-10T16:26:40.286787Z",
     "shell.execute_reply": "2023-02-10T16:26:40.285341Z"
    },
    "papermill": {
     "duration": 0.035012,
     "end_time": "2023-02-10T16:26:40.289292",
     "exception": false,
     "start_time": "2023-02-10T16:26:40.254280",
     "status": "completed"
    },
    "tags": []
   },
   "outputs": [
    {
     "data": {
      "text/html": [
       "<div>\n",
       "<style scoped>\n",
       "    .dataframe tbody tr th:only-of-type {\n",
       "        vertical-align: middle;\n",
       "    }\n",
       "\n",
       "    .dataframe tbody tr th {\n",
       "        vertical-align: top;\n",
       "    }\n",
       "\n",
       "    .dataframe thead th {\n",
       "        text-align: right;\n",
       "    }\n",
       "</style>\n",
       "<table border=\"1\" class=\"dataframe\">\n",
       "  <thead>\n",
       "    <tr style=\"text-align: right;\">\n",
       "      <th></th>\n",
       "      <th>ride_id</th>\n",
       "      <th>rideable_type</th>\n",
       "      <th>started_at</th>\n",
       "      <th>ended_at</th>\n",
       "      <th>start_station_name</th>\n",
       "      <th>start_station_id</th>\n",
       "      <th>end_station_name</th>\n",
       "      <th>end_station_id</th>\n",
       "      <th>start_lat</th>\n",
       "      <th>start_lng</th>\n",
       "      <th>end_lat</th>\n",
       "      <th>end_lng</th>\n",
       "      <th>member_casual</th>\n",
       "    </tr>\n",
       "  </thead>\n",
       "  <tbody>\n",
       "    <tr>\n",
       "      <th>0</th>\n",
       "      <td>6C992BD37A98A63F</td>\n",
       "      <td>classic_bike</td>\n",
       "      <td>2021-04-12 18:25:36</td>\n",
       "      <td>2021-04-12 18:56:55</td>\n",
       "      <td>State St &amp; Pearson St</td>\n",
       "      <td>TA1307000061</td>\n",
       "      <td>Southport Ave &amp; Waveland Ave</td>\n",
       "      <td>13235</td>\n",
       "      <td>41.897448</td>\n",
       "      <td>-87.628722</td>\n",
       "      <td>41.948150</td>\n",
       "      <td>-87.663940</td>\n",
       "      <td>member</td>\n",
       "    </tr>\n",
       "    <tr>\n",
       "      <th>1</th>\n",
       "      <td>1E0145613A209000</td>\n",
       "      <td>docked_bike</td>\n",
       "      <td>2021-04-27 17:27:11</td>\n",
       "      <td>2021-04-27 18:31:29</td>\n",
       "      <td>Dorchester Ave &amp; 49th St</td>\n",
       "      <td>KA1503000069</td>\n",
       "      <td>Dorchester Ave &amp; 49th St</td>\n",
       "      <td>KA1503000069</td>\n",
       "      <td>41.805772</td>\n",
       "      <td>-87.592464</td>\n",
       "      <td>41.805772</td>\n",
       "      <td>-87.592464</td>\n",
       "      <td>casual</td>\n",
       "    </tr>\n",
       "    <tr>\n",
       "      <th>2</th>\n",
       "      <td>E498E15508A80BAD</td>\n",
       "      <td>docked_bike</td>\n",
       "      <td>2021-04-03 12:42:45</td>\n",
       "      <td>2021-04-07 11:40:24</td>\n",
       "      <td>Loomis Blvd &amp; 84th St</td>\n",
       "      <td>20121</td>\n",
       "      <td>Loomis Blvd &amp; 84th St</td>\n",
       "      <td>20121</td>\n",
       "      <td>41.741487</td>\n",
       "      <td>-87.658410</td>\n",
       "      <td>41.741487</td>\n",
       "      <td>-87.658410</td>\n",
       "      <td>casual</td>\n",
       "    </tr>\n",
       "    <tr>\n",
       "      <th>3</th>\n",
       "      <td>1887262AD101C604</td>\n",
       "      <td>classic_bike</td>\n",
       "      <td>2021-04-17 09:17:42</td>\n",
       "      <td>2021-04-17 09:42:48</td>\n",
       "      <td>Honore St &amp; Division St</td>\n",
       "      <td>TA1305000034</td>\n",
       "      <td>Southport Ave &amp; Waveland Ave</td>\n",
       "      <td>13235</td>\n",
       "      <td>41.903119</td>\n",
       "      <td>-87.673935</td>\n",
       "      <td>41.948150</td>\n",
       "      <td>-87.663940</td>\n",
       "      <td>member</td>\n",
       "    </tr>\n",
       "    <tr>\n",
       "      <th>4</th>\n",
       "      <td>C123548CAB2A32A5</td>\n",
       "      <td>docked_bike</td>\n",
       "      <td>2021-04-03 12:42:25</td>\n",
       "      <td>2021-04-03 14:13:42</td>\n",
       "      <td>Loomis Blvd &amp; 84th St</td>\n",
       "      <td>20121</td>\n",
       "      <td>Loomis Blvd &amp; 84th St</td>\n",
       "      <td>20121</td>\n",
       "      <td>41.741487</td>\n",
       "      <td>-87.658410</td>\n",
       "      <td>41.741487</td>\n",
       "      <td>-87.658410</td>\n",
       "      <td>casual</td>\n",
       "    </tr>\n",
       "  </tbody>\n",
       "</table>\n",
       "</div>"
      ],
      "text/plain": [
       "            ride_id rideable_type           started_at             ended_at  \\\n",
       "0  6C992BD37A98A63F  classic_bike  2021-04-12 18:25:36  2021-04-12 18:56:55   \n",
       "1  1E0145613A209000   docked_bike  2021-04-27 17:27:11  2021-04-27 18:31:29   \n",
       "2  E498E15508A80BAD   docked_bike  2021-04-03 12:42:45  2021-04-07 11:40:24   \n",
       "3  1887262AD101C604  classic_bike  2021-04-17 09:17:42  2021-04-17 09:42:48   \n",
       "4  C123548CAB2A32A5   docked_bike  2021-04-03 12:42:25  2021-04-03 14:13:42   \n",
       "\n",
       "         start_station_name start_station_id              end_station_name  \\\n",
       "0     State St & Pearson St     TA1307000061  Southport Ave & Waveland Ave   \n",
       "1  Dorchester Ave & 49th St     KA1503000069      Dorchester Ave & 49th St   \n",
       "2     Loomis Blvd & 84th St            20121         Loomis Blvd & 84th St   \n",
       "3   Honore St & Division St     TA1305000034  Southport Ave & Waveland Ave   \n",
       "4     Loomis Blvd & 84th St            20121         Loomis Blvd & 84th St   \n",
       "\n",
       "  end_station_id  start_lat  start_lng    end_lat    end_lng member_casual  \n",
       "0          13235  41.897448 -87.628722  41.948150 -87.663940        member  \n",
       "1   KA1503000069  41.805772 -87.592464  41.805772 -87.592464        casual  \n",
       "2          20121  41.741487 -87.658410  41.741487 -87.658410        casual  \n",
       "3          13235  41.903119 -87.673935  41.948150 -87.663940        member  \n",
       "4          20121  41.741487 -87.658410  41.741487 -87.658410        casual  "
      ]
     },
     "execution_count": 7,
     "metadata": {},
     "output_type": "execute_result"
    }
   ],
   "source": [
    "# Quick view on the data (first 5 rows)\n",
    "trip_data.head()"
   ]
  },
  {
   "cell_type": "code",
   "execution_count": 8,
   "id": "f71252ef",
   "metadata": {
    "execution": {
     "iopub.execute_input": "2023-02-10T16:26:40.313001Z",
     "iopub.status.busy": "2023-02-10T16:26:40.312555Z",
     "iopub.status.idle": "2023-02-10T16:26:40.336714Z",
     "shell.execute_reply": "2023-02-10T16:26:40.335026Z"
    },
    "papermill": {
     "duration": 0.039421,
     "end_time": "2023-02-10T16:26:40.339795",
     "exception": false,
     "start_time": "2023-02-10T16:26:40.300374",
     "status": "completed"
    },
    "tags": []
   },
   "outputs": [
    {
     "name": "stdout",
     "output_type": "stream",
     "text": [
      "<class 'pandas.core.frame.DataFrame'>\n",
      "Int64Index: 5723532 entries, 0 to 284041\n",
      "Data columns (total 13 columns):\n",
      " #   Column              Dtype  \n",
      "---  ------              -----  \n",
      " 0   ride_id             object \n",
      " 1   rideable_type       object \n",
      " 2   started_at          object \n",
      " 3   ended_at            object \n",
      " 4   start_station_name  object \n",
      " 5   start_station_id    object \n",
      " 6   end_station_name    object \n",
      " 7   end_station_id      object \n",
      " 8   start_lat           float64\n",
      " 9   start_lng           float64\n",
      " 10  end_lat             float64\n",
      " 11  end_lng             float64\n",
      " 12  member_casual       object \n",
      "dtypes: float64(4), object(9)\n",
      "memory usage: 611.3+ MB\n"
     ]
    }
   ],
   "source": [
    "# Infromation about the data\n",
    "trip_data.info()"
   ]
  },
  {
   "cell_type": "code",
   "execution_count": 9,
   "id": "9737c4ae",
   "metadata": {
    "execution": {
     "iopub.execute_input": "2023-02-10T16:26:40.364779Z",
     "iopub.status.busy": "2023-02-10T16:26:40.363962Z",
     "iopub.status.idle": "2023-02-10T16:26:43.942402Z",
     "shell.execute_reply": "2023-02-10T16:26:43.941211Z"
    },
    "papermill": {
     "duration": 3.594193,
     "end_time": "2023-02-10T16:26:43.945190",
     "exception": false,
     "start_time": "2023-02-10T16:26:40.350997",
     "status": "completed"
    },
    "tags": []
   },
   "outputs": [
    {
     "data": {
      "text/html": [
       "<div>\n",
       "<style scoped>\n",
       "    .dataframe tbody tr th:only-of-type {\n",
       "        vertical-align: middle;\n",
       "    }\n",
       "\n",
       "    .dataframe tbody tr th {\n",
       "        vertical-align: top;\n",
       "    }\n",
       "\n",
       "    .dataframe thead th {\n",
       "        text-align: right;\n",
       "    }\n",
       "</style>\n",
       "<table border=\"1\" class=\"dataframe\">\n",
       "  <thead>\n",
       "    <tr style=\"text-align: right;\">\n",
       "      <th></th>\n",
       "      <th>start_lat</th>\n",
       "      <th>start_lng</th>\n",
       "      <th>end_lat</th>\n",
       "      <th>end_lng</th>\n",
       "    </tr>\n",
       "  </thead>\n",
       "  <tbody>\n",
       "    <tr>\n",
       "      <th>count</th>\n",
       "      <td>5.723532e+06</td>\n",
       "      <td>5.723532e+06</td>\n",
       "      <td>5.718816e+06</td>\n",
       "      <td>5.718816e+06</td>\n",
       "    </tr>\n",
       "    <tr>\n",
       "      <th>mean</th>\n",
       "      <td>4.190065e+01</td>\n",
       "      <td>-8.764629e+01</td>\n",
       "      <td>4.190091e+01</td>\n",
       "      <td>-8.764650e+01</td>\n",
       "    </tr>\n",
       "    <tr>\n",
       "      <th>std</th>\n",
       "      <td>4.649557e-02</td>\n",
       "      <td>2.974885e-02</td>\n",
       "      <td>4.657768e-02</td>\n",
       "      <td>2.935251e-02</td>\n",
       "    </tr>\n",
       "    <tr>\n",
       "      <th>min</th>\n",
       "      <td>4.164000e+01</td>\n",
       "      <td>-8.784000e+01</td>\n",
       "      <td>4.139000e+01</td>\n",
       "      <td>-8.897000e+01</td>\n",
       "    </tr>\n",
       "    <tr>\n",
       "      <th>25%</th>\n",
       "      <td>4.188132e+01</td>\n",
       "      <td>-8.766014e+01</td>\n",
       "      <td>4.188132e+01</td>\n",
       "      <td>-8.766028e+01</td>\n",
       "    </tr>\n",
       "    <tr>\n",
       "      <th>50%</th>\n",
       "      <td>4.189862e+01</td>\n",
       "      <td>-8.764194e+01</td>\n",
       "      <td>4.189897e+01</td>\n",
       "      <td>-8.764288e+01</td>\n",
       "    </tr>\n",
       "    <tr>\n",
       "      <th>75%</th>\n",
       "      <td>4.192889e+01</td>\n",
       "      <td>-8.762775e+01</td>\n",
       "      <td>4.192914e+01</td>\n",
       "      <td>-8.762775e+01</td>\n",
       "    </tr>\n",
       "    <tr>\n",
       "      <th>max</th>\n",
       "      <td>4.563503e+01</td>\n",
       "      <td>-7.379648e+01</td>\n",
       "      <td>4.216812e+01</td>\n",
       "      <td>-8.749000e+01</td>\n",
       "    </tr>\n",
       "  </tbody>\n",
       "</table>\n",
       "</div>"
      ],
      "text/plain": [
       "          start_lat     start_lng       end_lat       end_lng\n",
       "count  5.723532e+06  5.723532e+06  5.718816e+06  5.718816e+06\n",
       "mean   4.190065e+01 -8.764629e+01  4.190091e+01 -8.764650e+01\n",
       "std    4.649557e-02  2.974885e-02  4.657768e-02  2.935251e-02\n",
       "min    4.164000e+01 -8.784000e+01  4.139000e+01 -8.897000e+01\n",
       "25%    4.188132e+01 -8.766014e+01  4.188132e+01 -8.766028e+01\n",
       "50%    4.189862e+01 -8.764194e+01  4.189897e+01 -8.764288e+01\n",
       "75%    4.192889e+01 -8.762775e+01  4.192914e+01 -8.762775e+01\n",
       "max    4.563503e+01 -7.379648e+01  4.216812e+01 -8.749000e+01"
      ]
     },
     "execution_count": 9,
     "metadata": {},
     "output_type": "execute_result"
    }
   ],
   "source": [
    "trip_data.describe()\n"
   ]
  },
  {
   "cell_type": "markdown",
   "id": "263e6e8e",
   "metadata": {
    "papermill": {
     "duration": 0.010833,
     "end_time": "2023-02-10T16:26:43.967433",
     "exception": false,
     "start_time": "2023-02-10T16:26:43.956600",
     "status": "completed"
    },
    "tags": []
   },
   "source": [
    "# Process\n",
    "\n",
    "Lets start with some data cleaning and data manipulation.."
   ]
  },
  {
   "cell_type": "code",
   "execution_count": 10,
   "id": "b67d9db1",
   "metadata": {
    "execution": {
     "iopub.execute_input": "2023-02-10T16:26:43.992386Z",
     "iopub.status.busy": "2023-02-10T16:26:43.991792Z",
     "iopub.status.idle": "2023-02-10T16:26:48.015563Z",
     "shell.execute_reply": "2023-02-10T16:26:48.014305Z"
    },
    "papermill": {
     "duration": 4.039802,
     "end_time": "2023-02-10T16:26:48.018655",
     "exception": false,
     "start_time": "2023-02-10T16:26:43.978853",
     "status": "completed"
    },
    "tags": []
   },
   "outputs": [],
   "source": [
    "# Changing data type for date columns\n",
    "trip_data['started_at'] = pd.to_datetime(trip_data['started_at'])\n",
    "trip_data['ended_at'] = pd.to_datetime(trip_data['ended_at'])"
   ]
  },
  {
   "cell_type": "code",
   "execution_count": 11,
   "id": "53ea3fd0",
   "metadata": {
    "execution": {
     "iopub.execute_input": "2023-02-10T16:26:48.043704Z",
     "iopub.status.busy": "2023-02-10T16:26:48.043284Z",
     "iopub.status.idle": "2023-02-10T16:26:48.150050Z",
     "shell.execute_reply": "2023-02-10T16:26:48.148703Z"
    },
    "papermill": {
     "duration": 0.122247,
     "end_time": "2023-02-10T16:26:48.152747",
     "exception": false,
     "start_time": "2023-02-10T16:26:48.030500",
     "status": "completed"
    },
    "tags": []
   },
   "outputs": [
    {
     "data": {
      "text/plain": [
       "(145, 13)"
      ]
     },
     "execution_count": 11,
     "metadata": {},
     "output_type": "execute_result"
    }
   ],
   "source": [
    "# Check If the end date comes before the start date\n",
    "false_date = trip_data.loc[trip_data['started_at'] > trip_data['ended_at']]\n",
    "\n",
    "# (No. of rows with false date, No. of coloumns)\n",
    "false_date.shape"
   ]
  },
  {
   "cell_type": "code",
   "execution_count": 12,
   "id": "8b0e18e7",
   "metadata": {
    "execution": {
     "iopub.execute_input": "2023-02-10T16:26:48.178906Z",
     "iopub.status.busy": "2023-02-10T16:26:48.177842Z",
     "iopub.status.idle": "2023-02-10T16:26:50.212071Z",
     "shell.execute_reply": "2023-02-10T16:26:50.210699Z"
    },
    "papermill": {
     "duration": 2.050189,
     "end_time": "2023-02-10T16:26:50.215369",
     "exception": false,
     "start_time": "2023-02-10T16:26:48.165180",
     "status": "completed"
    },
    "tags": []
   },
   "outputs": [],
   "source": [
    "# Rows with false dates are being removed\n",
    "td_clean = trip_data.drop(false_date.index.to_list())"
   ]
  },
  {
   "cell_type": "code",
   "execution_count": 13,
   "id": "66257f2a",
   "metadata": {
    "execution": {
     "iopub.execute_input": "2023-02-10T16:26:50.239742Z",
     "iopub.status.busy": "2023-02-10T16:26:50.239315Z",
     "iopub.status.idle": "2023-02-10T16:27:05.865525Z",
     "shell.execute_reply": "2023-02-10T16:27:05.864321Z"
    },
    "papermill": {
     "duration": 15.641687,
     "end_time": "2023-02-10T16:27:05.868466",
     "exception": false,
     "start_time": "2023-02-10T16:26:50.226779",
     "status": "completed"
    },
    "tags": []
   },
   "outputs": [
    {
     "data": {
      "text/plain": [
       "0"
      ]
     },
     "execution_count": 13,
     "metadata": {},
     "output_type": "execute_result"
    }
   ],
   "source": [
    "# Examining duplicates\n",
    "td_clean.duplicated().sum()"
   ]
  },
  {
   "cell_type": "code",
   "execution_count": 14,
   "id": "8b588c80",
   "metadata": {
    "execution": {
     "iopub.execute_input": "2023-02-10T16:27:05.893340Z",
     "iopub.status.busy": "2023-02-10T16:27:05.892896Z",
     "iopub.status.idle": "2023-02-10T16:27:07.718616Z",
     "shell.execute_reply": "2023-02-10T16:27:07.717213Z"
    },
    "papermill": {
     "duration": 1.842191,
     "end_time": "2023-02-10T16:27:07.722124",
     "exception": false,
     "start_time": "2023-02-10T16:27:05.879933",
     "status": "completed"
    },
    "tags": []
   },
   "outputs": [
    {
     "data": {
      "text/plain": [
       "ride_id                    0\n",
       "rideable_type              0\n",
       "started_at                 0\n",
       "ended_at                   0\n",
       "start_station_name    745239\n",
       "start_station_id      745236\n",
       "end_station_name      796092\n",
       "end_station_id        796092\n",
       "start_lat                  0\n",
       "start_lng                  0\n",
       "end_lat                 4715\n",
       "end_lng                 4715\n",
       "member_casual              0\n",
       "dtype: int64"
      ]
     },
     "execution_count": 14,
     "metadata": {},
     "output_type": "execute_result"
    }
   ],
   "source": [
    "# Looking into missing values\n",
    "td_clean.isnull().sum()"
   ]
  },
  {
   "cell_type": "code",
   "execution_count": 15,
   "id": "d6d05f25",
   "metadata": {
    "execution": {
     "iopub.execute_input": "2023-02-10T16:27:07.749420Z",
     "iopub.status.busy": "2023-02-10T16:27:07.748313Z",
     "iopub.status.idle": "2023-02-10T16:27:10.369428Z",
     "shell.execute_reply": "2023-02-10T16:27:10.368265Z"
    },
    "papermill": {
     "duration": 2.636651,
     "end_time": "2023-02-10T16:27:10.372129",
     "exception": false,
     "start_time": "2023-02-10T16:27:07.735478",
     "status": "completed"
    },
    "tags": []
   },
   "outputs": [
    {
     "data": {
      "text/plain": [
       "(4640363, 13)"
      ]
     },
     "execution_count": 15,
     "metadata": {},
     "output_type": "execute_result"
    }
   ],
   "source": [
    "# All rows with missing values are being removed\n",
    "td_dropna = td_clean.dropna()\n",
    "\n",
    "# (No. of rows after dropping, No. of coloumns)\n",
    "td_dropna.shape"
   ]
  },
  {
   "cell_type": "markdown",
   "id": "7024a4a3",
   "metadata": {
    "papermill": {
     "duration": 0.01144,
     "end_time": "2023-02-10T16:27:10.395150",
     "exception": false,
     "start_time": "2023-02-10T16:27:10.383710",
     "status": "completed"
    },
    "tags": []
   },
   "source": [
    "Let us now derive some features for our analysis.."
   ]
  },
  {
   "cell_type": "code",
   "execution_count": 16,
   "id": "11bdbdde",
   "metadata": {
    "execution": {
     "iopub.execute_input": "2023-02-10T16:27:10.420820Z",
     "iopub.status.busy": "2023-02-10T16:27:10.420359Z",
     "iopub.status.idle": "2023-02-10T16:27:10.426849Z",
     "shell.execute_reply": "2023-02-10T16:27:10.425515Z"
    },
    "papermill": {
     "duration": 0.022421,
     "end_time": "2023-02-10T16:27:10.429292",
     "exception": false,
     "start_time": "2023-02-10T16:27:10.406871",
     "status": "completed"
    },
    "tags": []
   },
   "outputs": [],
   "source": [
    "# Function to extract season from datetime\n",
    "def ext_season(month):\n",
    "    if (month >= 3) and (month <= 5):\n",
    "        return 'Spring'\n",
    "    elif (month >= 6) and (month <= 8):\n",
    "        return 'Summer'\n",
    "    elif (month >= 9) and (month <= 11):\n",
    "        return 'Autumn'\n",
    "    else:\n",
    "        return 'Winter'"
   ]
  },
  {
   "cell_type": "code",
   "execution_count": 17,
   "id": "0acb796f",
   "metadata": {
    "execution": {
     "iopub.execute_input": "2023-02-10T16:27:10.454203Z",
     "iopub.status.busy": "2023-02-10T16:27:10.453767Z",
     "iopub.status.idle": "2023-02-10T16:27:13.561640Z",
     "shell.execute_reply": "2023-02-10T16:27:13.559122Z"
    },
    "papermill": {
     "duration": 3.12392,
     "end_time": "2023-02-10T16:27:13.564674",
     "exception": false,
     "start_time": "2023-02-10T16:27:10.440754",
     "status": "completed"
    },
    "tags": []
   },
   "outputs": [],
   "source": [
    "# Extracting weekday (Monday = 0, Sunday = 6)\n",
    "td_clean['weekday'] = td_clean['started_at'].dt.dayofweek\n",
    "\n",
    "# Calculating trip duration field, in minutes\n",
    "td_clean['duration_minutes'] = round((td_clean['ended_at'] - td_clean['started_at']).dt.total_seconds() / 60, 2)\n",
    "\n",
    "# Extracting season\n",
    "td_clean['season'] = td_clean['started_at'].dt.month.map(ext_season)"
   ]
  },
  {
   "cell_type": "code",
   "execution_count": 18,
   "id": "bfb31f0e",
   "metadata": {
    "execution": {
     "iopub.execute_input": "2023-02-10T16:27:13.589923Z",
     "iopub.status.busy": "2023-02-10T16:27:13.589504Z",
     "iopub.status.idle": "2023-02-10T16:27:13.821799Z",
     "shell.execute_reply": "2023-02-10T16:27:13.820437Z"
    },
    "papermill": {
     "duration": 0.248538,
     "end_time": "2023-02-10T16:27:13.824717",
     "exception": false,
     "start_time": "2023-02-10T16:27:13.576179",
     "status": "completed"
    },
    "tags": []
   },
   "outputs": [],
   "source": [
    "# Replace with weekday names instead of numbers\n",
    "Weekday_Names = {0:'Monday', 1:'Tuesday', 2:'Wednesday', 3:'Thursday', 4:'Friday', 5:'Saturday', 6:'Sunday'}\n",
    "td_clean['weekday'] = td_clean['weekday'].map(Weekday_Names) "
   ]
  },
  {
   "cell_type": "markdown",
   "id": "0c9d7fea",
   "metadata": {
    "papermill": {
     "duration": 0.011823,
     "end_time": "2023-02-10T16:27:13.848535",
     "exception": false,
     "start_time": "2023-02-10T16:27:13.836712",
     "status": "completed"
    },
    "tags": []
   },
   "source": [
    "# Analyze\n",
    "\n",
    "summary of analysis"
   ]
  },
  {
   "cell_type": "code",
   "execution_count": 19,
   "id": "058e0d56",
   "metadata": {
    "execution": {
     "iopub.execute_input": "2023-02-10T16:27:13.875612Z",
     "iopub.status.busy": "2023-02-10T16:27:13.875175Z",
     "iopub.status.idle": "2023-02-10T16:27:14.239361Z",
     "shell.execute_reply": "2023-02-10T16:27:14.238164Z"
    },
    "papermill": {
     "duration": 0.381369,
     "end_time": "2023-02-10T16:27:14.242032",
     "exception": false,
     "start_time": "2023-02-10T16:27:13.860663",
     "status": "completed"
    },
    "tags": []
   },
   "outputs": [
    {
     "data": {
      "text/html": [
       "<div>\n",
       "<style scoped>\n",
       "    .dataframe tbody tr th:only-of-type {\n",
       "        vertical-align: middle;\n",
       "    }\n",
       "\n",
       "    .dataframe tbody tr th {\n",
       "        vertical-align: top;\n",
       "    }\n",
       "\n",
       "    .dataframe thead th {\n",
       "        text-align: right;\n",
       "    }\n",
       "</style>\n",
       "<table border=\"1\" class=\"dataframe\">\n",
       "  <thead>\n",
       "    <tr style=\"text-align: right;\">\n",
       "      <th></th>\n",
       "      <th>member_casual</th>\n",
       "      <th>count</th>\n",
       "    </tr>\n",
       "  </thead>\n",
       "  <tbody>\n",
       "    <tr>\n",
       "      <th>0</th>\n",
       "      <td>member</td>\n",
       "      <td>3176284</td>\n",
       "    </tr>\n",
       "    <tr>\n",
       "      <th>1</th>\n",
       "      <td>casual</td>\n",
       "      <td>2545997</td>\n",
       "    </tr>\n",
       "  </tbody>\n",
       "</table>\n",
       "</div>"
      ],
      "text/plain": [
       "  member_casual    count\n",
       "0        member  3176284\n",
       "1        casual  2545997"
      ]
     },
     "execution_count": 19,
     "metadata": {},
     "output_type": "execute_result"
    }
   ],
   "source": [
    "#Count the rides; given the user type\n",
    "td_ut = td_clean['member_casual'].value_counts().rename_axis('member_casual').reset_index(name = 'count')\n",
    "\n",
    "td_ut"
   ]
  },
  {
   "cell_type": "code",
   "execution_count": 20,
   "id": "320fc393",
   "metadata": {
    "execution": {
     "iopub.execute_input": "2023-02-10T16:27:14.267987Z",
     "iopub.status.busy": "2023-02-10T16:27:14.267592Z",
     "iopub.status.idle": "2023-02-10T16:27:15.859304Z",
     "shell.execute_reply": "2023-02-10T16:27:15.857488Z"
    },
    "papermill": {
     "duration": 1.608337,
     "end_time": "2023-02-10T16:27:15.862116",
     "exception": false,
     "start_time": "2023-02-10T16:27:14.253779",
     "status": "completed"
    },
    "tags": []
   },
   "outputs": [
    {
     "data": {
      "text/html": [
       "<div>\n",
       "<style scoped>\n",
       "    .dataframe tbody tr th:only-of-type {\n",
       "        vertical-align: middle;\n",
       "    }\n",
       "\n",
       "    .dataframe tbody tr th {\n",
       "        vertical-align: top;\n",
       "    }\n",
       "\n",
       "    .dataframe thead th {\n",
       "        text-align: right;\n",
       "    }\n",
       "</style>\n",
       "<table border=\"1\" class=\"dataframe\">\n",
       "  <thead>\n",
       "    <tr style=\"text-align: right;\">\n",
       "      <th></th>\n",
       "      <th>member_casual</th>\n",
       "      <th>rideable_type</th>\n",
       "      <th>count</th>\n",
       "    </tr>\n",
       "  </thead>\n",
       "  <tbody>\n",
       "    <tr>\n",
       "      <th>0</th>\n",
       "      <td>casual</td>\n",
       "      <td>classic_bike</td>\n",
       "      <td>1257376</td>\n",
       "    </tr>\n",
       "    <tr>\n",
       "      <th>1</th>\n",
       "      <td>casual</td>\n",
       "      <td>docked_bike</td>\n",
       "      <td>303932</td>\n",
       "    </tr>\n",
       "    <tr>\n",
       "      <th>2</th>\n",
       "      <td>casual</td>\n",
       "      <td>electric_bike</td>\n",
       "      <td>984689</td>\n",
       "    </tr>\n",
       "    <tr>\n",
       "      <th>3</th>\n",
       "      <td>member</td>\n",
       "      <td>classic_bike</td>\n",
       "      <td>1992598</td>\n",
       "    </tr>\n",
       "    <tr>\n",
       "      <th>4</th>\n",
       "      <td>member</td>\n",
       "      <td>electric_bike</td>\n",
       "      <td>1183686</td>\n",
       "    </tr>\n",
       "  </tbody>\n",
       "</table>\n",
       "</div>"
      ],
      "text/plain": [
       "  member_casual  rideable_type    count\n",
       "0        casual   classic_bike  1257376\n",
       "1        casual    docked_bike   303932\n",
       "2        casual  electric_bike   984689\n",
       "3        member   classic_bike  1992598\n",
       "4        member  electric_bike  1183686"
      ]
     },
     "execution_count": 20,
     "metadata": {},
     "output_type": "execute_result"
    }
   ],
   "source": [
    "# Count the rides; given both user, and bike type\n",
    "td_ut_bt = td_clean.groupby(['member_casual','rideable_type'])['ride_id'].count().rename_axis(['member_casual', 'rideable_type']).reset_index(name = 'count')\n",
    "\n",
    "td_ut_bt"
   ]
  },
  {
   "cell_type": "code",
   "execution_count": 21,
   "id": "c02cd228",
   "metadata": {
    "execution": {
     "iopub.execute_input": "2023-02-10T16:27:15.889215Z",
     "iopub.status.busy": "2023-02-10T16:27:15.888814Z",
     "iopub.status.idle": "2023-02-10T16:27:17.459435Z",
     "shell.execute_reply": "2023-02-10T16:27:17.458242Z"
    },
    "papermill": {
     "duration": 1.586815,
     "end_time": "2023-02-10T16:27:17.461857",
     "exception": false,
     "start_time": "2023-02-10T16:27:15.875042",
     "status": "completed"
    },
    "tags": []
   },
   "outputs": [
    {
     "data": {
      "text/html": [
       "<div>\n",
       "<style scoped>\n",
       "    .dataframe tbody tr th:only-of-type {\n",
       "        vertical-align: middle;\n",
       "    }\n",
       "\n",
       "    .dataframe tbody tr th {\n",
       "        vertical-align: top;\n",
       "    }\n",
       "\n",
       "    .dataframe thead th {\n",
       "        text-align: right;\n",
       "    }\n",
       "</style>\n",
       "<table border=\"1\" class=\"dataframe\">\n",
       "  <thead>\n",
       "    <tr style=\"text-align: right;\">\n",
       "      <th></th>\n",
       "      <th>member_casual</th>\n",
       "      <th>weekday</th>\n",
       "      <th>count</th>\n",
       "    </tr>\n",
       "  </thead>\n",
       "  <tbody>\n",
       "    <tr>\n",
       "      <th>0</th>\n",
       "      <td>casual</td>\n",
       "      <td>Friday</td>\n",
       "      <td>364214</td>\n",
       "    </tr>\n",
       "    <tr>\n",
       "      <th>1</th>\n",
       "      <td>casual</td>\n",
       "      <td>Monday</td>\n",
       "      <td>292941</td>\n",
       "    </tr>\n",
       "    <tr>\n",
       "      <th>2</th>\n",
       "      <td>casual</td>\n",
       "      <td>Saturday</td>\n",
       "      <td>549898</td>\n",
       "    </tr>\n",
       "    <tr>\n",
       "      <th>3</th>\n",
       "      <td>casual</td>\n",
       "      <td>Sunday</td>\n",
       "      <td>482692</td>\n",
       "    </tr>\n",
       "    <tr>\n",
       "      <th>4</th>\n",
       "      <td>casual</td>\n",
       "      <td>Thursday</td>\n",
       "      <td>293576</td>\n",
       "    </tr>\n",
       "    <tr>\n",
       "      <th>5</th>\n",
       "      <td>casual</td>\n",
       "      <td>Tuesday</td>\n",
       "      <td>276313</td>\n",
       "    </tr>\n",
       "    <tr>\n",
       "      <th>6</th>\n",
       "      <td>casual</td>\n",
       "      <td>Wednesday</td>\n",
       "      <td>286363</td>\n",
       "    </tr>\n",
       "    <tr>\n",
       "      <th>7</th>\n",
       "      <td>member</td>\n",
       "      <td>Friday</td>\n",
       "      <td>453005</td>\n",
       "    </tr>\n",
       "    <tr>\n",
       "      <th>8</th>\n",
       "      <td>member</td>\n",
       "      <td>Monday</td>\n",
       "      <td>439351</td>\n",
       "    </tr>\n",
       "    <tr>\n",
       "      <th>9</th>\n",
       "      <td>member</td>\n",
       "      <td>Saturday</td>\n",
       "      <td>431255</td>\n",
       "    </tr>\n",
       "    <tr>\n",
       "      <th>10</th>\n",
       "      <td>member</td>\n",
       "      <td>Sunday</td>\n",
       "      <td>387642</td>\n",
       "    </tr>\n",
       "    <tr>\n",
       "      <th>11</th>\n",
       "      <td>member</td>\n",
       "      <td>Thursday</td>\n",
       "      <td>475230</td>\n",
       "    </tr>\n",
       "    <tr>\n",
       "      <th>12</th>\n",
       "      <td>member</td>\n",
       "      <td>Tuesday</td>\n",
       "      <td>490004</td>\n",
       "    </tr>\n",
       "    <tr>\n",
       "      <th>13</th>\n",
       "      <td>member</td>\n",
       "      <td>Wednesday</td>\n",
       "      <td>499797</td>\n",
       "    </tr>\n",
       "  </tbody>\n",
       "</table>\n",
       "</div>"
      ],
      "text/plain": [
       "   member_casual    weekday   count\n",
       "0         casual     Friday  364214\n",
       "1         casual     Monday  292941\n",
       "2         casual   Saturday  549898\n",
       "3         casual     Sunday  482692\n",
       "4         casual   Thursday  293576\n",
       "5         casual    Tuesday  276313\n",
       "6         casual  Wednesday  286363\n",
       "7         member     Friday  453005\n",
       "8         member     Monday  439351\n",
       "9         member   Saturday  431255\n",
       "10        member     Sunday  387642\n",
       "11        member   Thursday  475230\n",
       "12        member    Tuesday  490004\n",
       "13        member  Wednesday  499797"
      ]
     },
     "execution_count": 21,
     "metadata": {},
     "output_type": "execute_result"
    }
   ],
   "source": [
    "# Count the rides; given both user, and weekday\n",
    "td_wd_ut = td_clean.groupby(['member_casual', 'weekday'])['weekday'].count().rename_axis(['member_casual', 'weekday']).reset_index(name = 'count')\n",
    "\n",
    "td_wd_ut"
   ]
  },
  {
   "cell_type": "code",
   "execution_count": 22,
   "id": "98772dad",
   "metadata": {
    "execution": {
     "iopub.execute_input": "2023-02-10T16:27:17.487775Z",
     "iopub.status.busy": "2023-02-10T16:27:17.487145Z",
     "iopub.status.idle": "2023-02-10T16:27:18.800029Z",
     "shell.execute_reply": "2023-02-10T16:27:18.798326Z"
    },
    "papermill": {
     "duration": 1.328983,
     "end_time": "2023-02-10T16:27:18.802811",
     "exception": false,
     "start_time": "2023-02-10T16:27:17.473828",
     "status": "completed"
    },
    "tags": []
   },
   "outputs": [
    {
     "data": {
      "text/html": [
       "<div>\n",
       "<style scoped>\n",
       "    .dataframe tbody tr th:only-of-type {\n",
       "        vertical-align: middle;\n",
       "    }\n",
       "\n",
       "    .dataframe tbody tr th {\n",
       "        vertical-align: top;\n",
       "    }\n",
       "\n",
       "    .dataframe thead th {\n",
       "        text-align: right;\n",
       "    }\n",
       "</style>\n",
       "<table border=\"1\" class=\"dataframe\">\n",
       "  <thead>\n",
       "    <tr style=\"text-align: right;\">\n",
       "      <th></th>\n",
       "      <th>member_casual</th>\n",
       "      <th>weekday</th>\n",
       "      <th>avg_duration_m</th>\n",
       "    </tr>\n",
       "  </thead>\n",
       "  <tbody>\n",
       "    <tr>\n",
       "      <th>0</th>\n",
       "      <td>casual</td>\n",
       "      <td>Friday</td>\n",
       "      <td>30.10</td>\n",
       "    </tr>\n",
       "    <tr>\n",
       "      <th>1</th>\n",
       "      <td>casual</td>\n",
       "      <td>Monday</td>\n",
       "      <td>31.48</td>\n",
       "    </tr>\n",
       "    <tr>\n",
       "      <th>2</th>\n",
       "      <td>casual</td>\n",
       "      <td>Saturday</td>\n",
       "      <td>34.28</td>\n",
       "    </tr>\n",
       "    <tr>\n",
       "      <th>3</th>\n",
       "      <td>casual</td>\n",
       "      <td>Sunday</td>\n",
       "      <td>37.41</td>\n",
       "    </tr>\n",
       "    <tr>\n",
       "      <th>4</th>\n",
       "      <td>casual</td>\n",
       "      <td>Thursday</td>\n",
       "      <td>27.88</td>\n",
       "    </tr>\n",
       "    <tr>\n",
       "      <th>5</th>\n",
       "      <td>casual</td>\n",
       "      <td>Tuesday</td>\n",
       "      <td>27.43</td>\n",
       "    </tr>\n",
       "    <tr>\n",
       "      <th>6</th>\n",
       "      <td>casual</td>\n",
       "      <td>Wednesday</td>\n",
       "      <td>27.77</td>\n",
       "    </tr>\n",
       "    <tr>\n",
       "      <th>7</th>\n",
       "      <td>member</td>\n",
       "      <td>Friday</td>\n",
       "      <td>13.14</td>\n",
       "    </tr>\n",
       "    <tr>\n",
       "      <th>8</th>\n",
       "      <td>member</td>\n",
       "      <td>Monday</td>\n",
       "      <td>12.97</td>\n",
       "    </tr>\n",
       "    <tr>\n",
       "      <th>9</th>\n",
       "      <td>member</td>\n",
       "      <td>Saturday</td>\n",
       "      <td>14.99</td>\n",
       "    </tr>\n",
       "    <tr>\n",
       "      <th>10</th>\n",
       "      <td>member</td>\n",
       "      <td>Sunday</td>\n",
       "      <td>15.35</td>\n",
       "    </tr>\n",
       "    <tr>\n",
       "      <th>11</th>\n",
       "      <td>member</td>\n",
       "      <td>Thursday</td>\n",
       "      <td>12.57</td>\n",
       "    </tr>\n",
       "    <tr>\n",
       "      <th>12</th>\n",
       "      <td>member</td>\n",
       "      <td>Tuesday</td>\n",
       "      <td>12.52</td>\n",
       "    </tr>\n",
       "    <tr>\n",
       "      <th>13</th>\n",
       "      <td>member</td>\n",
       "      <td>Wednesday</td>\n",
       "      <td>12.59</td>\n",
       "    </tr>\n",
       "  </tbody>\n",
       "</table>\n",
       "</div>"
      ],
      "text/plain": [
       "   member_casual    weekday  avg_duration_m\n",
       "0         casual     Friday           30.10\n",
       "1         casual     Monday           31.48\n",
       "2         casual   Saturday           34.28\n",
       "3         casual     Sunday           37.41\n",
       "4         casual   Thursday           27.88\n",
       "5         casual    Tuesday           27.43\n",
       "6         casual  Wednesday           27.77\n",
       "7         member     Friday           13.14\n",
       "8         member     Monday           12.97\n",
       "9         member   Saturday           14.99\n",
       "10        member     Sunday           15.35\n",
       "11        member   Thursday           12.57\n",
       "12        member    Tuesday           12.52\n",
       "13        member  Wednesday           12.59"
      ]
     },
     "execution_count": 22,
     "metadata": {},
     "output_type": "execute_result"
    }
   ],
   "source": [
    "# Average ride duration; given user, and weekday\n",
    "Avg_td_ud_ut = td_clean.groupby(['member_casual', 'weekday'])['duration_minutes'].mean().rename_axis(['member_casual', 'weekday']).reset_index(name = 'avg_duration_m')\n",
    "\n",
    "# Avg duration rounded to 2 decimal points\n",
    "Avg_td_ud_ut['avg_duration_m'] = round(Avg_td_ud_ut['avg_duration_m'], 2)\n",
    "\n",
    "Avg_td_ud_ut"
   ]
  },
  {
   "cell_type": "code",
   "execution_count": 23,
   "id": "3175d22c",
   "metadata": {
    "execution": {
     "iopub.execute_input": "2023-02-10T16:27:18.830359Z",
     "iopub.status.busy": "2023-02-10T16:27:18.829946Z",
     "iopub.status.idle": "2023-02-10T16:27:20.316431Z",
     "shell.execute_reply": "2023-02-10T16:27:20.315190Z"
    },
    "papermill": {
     "duration": 1.503457,
     "end_time": "2023-02-10T16:27:20.319089",
     "exception": false,
     "start_time": "2023-02-10T16:27:18.815632",
     "status": "completed"
    },
    "tags": []
   },
   "outputs": [
    {
     "data": {
      "text/html": [
       "<div>\n",
       "<style scoped>\n",
       "    .dataframe tbody tr th:only-of-type {\n",
       "        vertical-align: middle;\n",
       "    }\n",
       "\n",
       "    .dataframe tbody tr th {\n",
       "        vertical-align: top;\n",
       "    }\n",
       "\n",
       "    .dataframe thead th {\n",
       "        text-align: right;\n",
       "    }\n",
       "</style>\n",
       "<table border=\"1\" class=\"dataframe\">\n",
       "  <thead>\n",
       "    <tr style=\"text-align: right;\">\n",
       "      <th></th>\n",
       "      <th>member_casual</th>\n",
       "      <th>season</th>\n",
       "      <th>count</th>\n",
       "    </tr>\n",
       "  </thead>\n",
       "  <tbody>\n",
       "    <tr>\n",
       "      <th>0</th>\n",
       "      <td>casual</td>\n",
       "      <td>Autumn</td>\n",
       "      <td>727899</td>\n",
       "    </tr>\n",
       "    <tr>\n",
       "      <th>1</th>\n",
       "      <td>casual</td>\n",
       "      <td>Spring</td>\n",
       "      <td>483270</td>\n",
       "    </tr>\n",
       "    <tr>\n",
       "      <th>2</th>\n",
       "      <td>casual</td>\n",
       "      <td>Summer</td>\n",
       "      <td>1225185</td>\n",
       "    </tr>\n",
       "    <tr>\n",
       "      <th>3</th>\n",
       "      <td>casual</td>\n",
       "      <td>Winter</td>\n",
       "      <td>109643</td>\n",
       "    </tr>\n",
       "    <tr>\n",
       "      <th>4</th>\n",
       "      <td>member</td>\n",
       "      <td>Autumn</td>\n",
       "      <td>1019056</td>\n",
       "    </tr>\n",
       "    <tr>\n",
       "      <th>5</th>\n",
       "      <td>member</td>\n",
       "      <td>Spring</td>\n",
       "      <td>669341</td>\n",
       "    </tr>\n",
       "    <tr>\n",
       "      <th>6</th>\n",
       "      <td>member</td>\n",
       "      <td>Summer</td>\n",
       "      <td>1130737</td>\n",
       "    </tr>\n",
       "    <tr>\n",
       "      <th>7</th>\n",
       "      <td>member</td>\n",
       "      <td>Winter</td>\n",
       "      <td>357150</td>\n",
       "    </tr>\n",
       "  </tbody>\n",
       "</table>\n",
       "</div>"
      ],
      "text/plain": [
       "  member_casual  season    count\n",
       "0        casual  Autumn   727899\n",
       "1        casual  Spring   483270\n",
       "2        casual  Summer  1225185\n",
       "3        casual  Winter   109643\n",
       "4        member  Autumn  1019056\n",
       "5        member  Spring   669341\n",
       "6        member  Summer  1130737\n",
       "7        member  Winter   357150"
      ]
     },
     "execution_count": 23,
     "metadata": {},
     "output_type": "execute_result"
    }
   ],
   "source": [
    "# Count the rides; given both user, and season\n",
    "td_s_ut = td_clean.groupby(['member_casual', 'season'])['season'].count().rename_axis(['member_casual', 'season']).reset_index(name = 'count')\n",
    "\n",
    "td_s_ut"
   ]
  },
  {
   "cell_type": "markdown",
   "id": "ec26dfcb",
   "metadata": {
    "papermill": {
     "duration": 0.012309,
     "end_time": "2023-02-10T16:27:20.344062",
     "exception": false,
     "start_time": "2023-02-10T16:27:20.331753",
     "status": "completed"
    },
    "tags": []
   },
   "source": [
    "# Share\n",
    "\n",
    "Support visualization and key findings.."
   ]
  },
  {
   "cell_type": "code",
   "execution_count": 24,
   "id": "98044c12",
   "metadata": {
    "execution": {
     "iopub.execute_input": "2023-02-10T16:27:20.371116Z",
     "iopub.status.busy": "2023-02-10T16:27:20.370679Z",
     "iopub.status.idle": "2023-02-10T16:27:20.376568Z",
     "shell.execute_reply": "2023-02-10T16:27:20.375636Z"
    },
    "papermill": {
     "duration": 0.022355,
     "end_time": "2023-02-10T16:27:20.378969",
     "exception": false,
     "start_time": "2023-02-10T16:27:20.356614",
     "status": "completed"
    },
    "tags": []
   },
   "outputs": [],
   "source": [
    "def chart_cust(chart):\n",
    "    sns.set_style('whitegrid')\n",
    "    sns.set_context('talk')\n",
    "    sns.set_palette(['#C2240B', '#F39A05'])\n",
    "    chart\n",
    "    plt.ticklabel_format(style='plain', axis='y')\n",
    "    plt.show()"
   ]
  },
  {
   "cell_type": "code",
   "execution_count": 25,
   "id": "a85ccea3",
   "metadata": {
    "execution": {
     "iopub.execute_input": "2023-02-10T16:27:20.407359Z",
     "iopub.status.busy": "2023-02-10T16:27:20.406327Z",
     "iopub.status.idle": "2023-02-10T16:27:20.581697Z",
     "shell.execute_reply": "2023-02-10T16:27:20.580275Z"
    },
    "papermill": {
     "duration": 0.192789,
     "end_time": "2023-02-10T16:27:20.584390",
     "exception": false,
     "start_time": "2023-02-10T16:27:20.391601",
     "status": "completed"
    },
    "tags": []
   },
   "outputs": [
    {
     "data": {
      "image/png": "[encoded data removed]",
      "text/plain": [
       "<Figure size 432x288 with 1 Axes>"
      ]
     },
     "metadata": {},
     "output_type": "display_data"
    }
   ],
   "source": [
    "#Count the rides; given the user type\n",
    "td = plt.pie(td_ut['count'], labels=td_ut['member_casual'], autopct='%.0f%%',\n",
    "            startangle=90, colors = ['#C2240B', '#F39A05'])\n",
    "plt.title('% of rides for each user type')\n",
    "chart_cust(td)"
   ]
  },
  {
   "cell_type": "markdown",
   "id": "30b2b20e",
   "metadata": {
    "papermill": {
     "duration": 0.013647,
     "end_time": "2023-02-10T16:27:20.612948",
     "exception": false,
     "start_time": "2023-02-10T16:27:20.599301",
     "status": "completed"
    },
    "tags": []
   },
   "source": [
    "##### Surprisingly, annual members have never used docked bikes in the previous year."
   ]
  },
  {
   "cell_type": "code",
   "execution_count": 26,
   "id": "29bd2a55",
   "metadata": {
    "execution": {
     "iopub.execute_input": "2023-02-10T16:27:20.644369Z",
     "iopub.status.busy": "2023-02-10T16:27:20.643912Z",
     "iopub.status.idle": "2023-02-10T16:27:20.912432Z",
     "shell.execute_reply": "2023-02-10T16:27:20.911345Z"
    },
    "papermill": {
     "duration": 0.287743,
     "end_time": "2023-02-10T16:27:20.915295",
     "exception": false,
     "start_time": "2023-02-10T16:27:20.627552",
     "status": "completed"
    },
    "tags": []
   },
   "outputs": [
    {
     "data": {
      "image/png": "[encoded data removed]",
      "text/plain": [
       "<Figure size 432x288 with 1 Axes>"
      ]
     },
     "metadata": {},
     "output_type": "display_data"
    }
   ],
   "source": [
    "# Count the rides; given both user, and weekday\n",
    "td = sns.barplot(data=td_wd_ut, x='weekday', y='count', hue='member_casual', hue_order=['member', 'casual'])\n",
    "plt.legend(bbox_to_anchor=(1.02, 1), loc='upper left')\n",
    "plt.xticks(rotation=45)\n",
    "plt.title('The number of rides provided on weekdays', fontsize=30, pad=25)\n",
    "plt.xlabel('')\n",
    "plt.ylabel('The number of rides')\n",
    "chart_cust(td)"
   ]
  },
  {
   "cell_type": "markdown",
   "id": "90fd1bad",
   "metadata": {
    "papermill": {
     "duration": 0.014414,
     "end_time": "2023-02-10T16:27:20.944553",
     "exception": false,
     "start_time": "2023-02-10T16:27:20.930139",
     "status": "completed"
    },
    "tags": []
   },
   "source": [
    "##### Weekends are the busiest times for casual users.\n",
    "\n",
    "##### Throughout the rest of the week, members are more active."
   ]
  },
  {
   "cell_type": "code",
   "execution_count": 27,
   "id": "0b53b70e",
   "metadata": {
    "execution": {
     "iopub.execute_input": "2023-02-10T16:27:20.975359Z",
     "iopub.status.busy": "2023-02-10T16:27:20.973996Z",
     "iopub.status.idle": "2023-02-10T16:27:21.283823Z",
     "shell.execute_reply": "2023-02-10T16:27:21.282364Z"
    },
    "papermill": {
     "duration": 0.328395,
     "end_time": "2023-02-10T16:27:21.286841",
     "exception": false,
     "start_time": "2023-02-10T16:27:20.958446",
     "status": "completed"
    },
    "tags": []
   },
   "outputs": [
    {
     "data": {
      "image/png": "[encoded data removed]",
      "text/plain": [
       "<Figure size 432x288 with 1 Axes>"
      ]
     },
     "metadata": {},
     "output_type": "display_data"
    }
   ],
   "source": [
    "# Average ride duration; given user, and weekday\n",
    "td = sns.barplot(data=Avg_td_ud_ut, x='weekday', y='avg_duration_m', hue='member_casual', hue_order=['member', 'casual'])\n",
    "plt.legend(bbox_to_anchor=(1.02, 1), loc='upper left')\n",
    "plt.xticks(rotation=45)\n",
    "plt.title('Average ride duration given weekday', fontsize=25, pad=20)\n",
    "plt.xlabel('')\n",
    "plt.ylabel('Avg duration')\n",
    "chart_cust(td)"
   ]
  },
  {
   "cell_type": "markdown",
   "id": "4ece6efb",
   "metadata": {
    "papermill": {
     "duration": 0.013918,
     "end_time": "2023-02-10T16:27:21.315391",
     "exception": false,
     "start_time": "2023-02-10T16:27:21.301473",
     "status": "completed"
    },
    "tags": []
   },
   "source": [
    "#### Over the week, however, the average casual ride lasts twice as long as the members'."
   ]
  },
  {
   "cell_type": "code",
   "execution_count": 28,
   "id": "08394d43",
   "metadata": {
    "execution": {
     "iopub.execute_input": "2023-02-10T16:27:21.345840Z",
     "iopub.status.busy": "2023-02-10T16:27:21.345456Z",
     "iopub.status.idle": "2023-02-10T16:27:21.603793Z",
     "shell.execute_reply": "2023-02-10T16:27:21.602444Z"
    },
    "papermill": {
     "duration": 0.276904,
     "end_time": "2023-02-10T16:27:21.606470",
     "exception": false,
     "start_time": "2023-02-10T16:27:21.329566",
     "status": "completed"
    },
    "tags": []
   },
   "outputs": [
    {
     "data": {
      "image/png": "[encoded data removed]",
      "text/plain": [
       "<Figure size 432x288 with 1 Axes>"
      ]
     },
     "metadata": {},
     "output_type": "display_data"
    }
   ],
   "source": [
    "# Count the rides; given both user, and season\n",
    "td = sns.barplot(data=td_s_ut, x='season', y='count', hue='member_casual', hue_order=['member', 'casual'])\n",
    "plt.legend(bbox_to_anchor=(1.02, 1), loc='upper left')\n",
    "plt.title('No. of rides given season', fontsize=25, pad=20)\n",
    "plt.xlabel('')\n",
    "plt.ylabel('No. of rides')\n",
    "chart_cust(td)"
   ]
  },
  {
   "cell_type": "markdown",
   "id": "2773db4a",
   "metadata": {
    "papermill": {
     "duration": 0.016966,
     "end_time": "2023-02-10T16:27:21.640163",
     "exception": false,
     "start_time": "2023-02-10T16:27:21.623197",
     "status": "completed"
    },
    "tags": []
   },
   "source": [
    "##### During the summer, casual users are the most active.\n",
    "\n",
    "##### During the rest of the year, members are more active than casuals."
   ]
  },
  {
   "cell_type": "markdown",
   "id": "71e15fe7",
   "metadata": {
    "papermill": {
     "duration": 0.01473,
     "end_time": "2023-02-10T16:27:21.671141",
     "exception": false,
     "start_time": "2023-02-10T16:27:21.656411",
     "status": "completed"
    },
    "tags": []
   },
   "source": [
    "# Act\n",
    "\n",
    "***In light of the business objective and the extracted insights, I propose:***\n",
    "- Offering some kind of promotion during the summer or on weekends.\n",
    "- Including docked bicycles in annual memberships."
   ]
  }
 ],
 "metadata": {
  "kernelspec": {
   "display_name": "Python 3",
   "language": "python",
   "name": "python3"
  },
  "language_info": {
   "codemirror_mode": {
    "name": "ipython",
    "version": 3
   },
   "file_extension": ".py",
   "mimetype": "text/x-python",
   "name": "python",
   "nbconvert_exporter": "python",
   "pygments_lexer": "ipython3",
   "version": "3.7.12"
  },
  "papermill": {
   "default_parameters": {},
   "duration": 96.076564,
   "end_time": "2023-02-10T16:27:23.917062",
   "environment_variables": {},
   "exception": null,
   "input_path": "__notebook__.ipynb",
   "output_path": "__notebook__.ipynb",
   "parameters": {},
   "start_time": "2023-02-10T16:25:47.840498",
   "version": "2.3.4"
  }
 },
 "nbformat": 4,
 "nbformat_minor": 5
}
